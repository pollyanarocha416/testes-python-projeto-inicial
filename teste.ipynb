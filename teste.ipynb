{
 "cells": [
  {
   "cell_type": "code",
   "execution_count": 8,
   "metadata": {},
   "outputs": [],
   "source": [
    "class Pessoa:\n",
    "    def __init__(self, nome, celular, endereco) -> None:\n",
    "        self.nome = nome\n",
    "        self.celular = celular\n",
    "        self.endereco = endereco"
   ]
  },
  {
   "cell_type": "code",
   "execution_count": 10,
   "metadata": {},
   "outputs": [
    {
     "data": {
      "text/plain": [
       "<__main__.Pessoa at 0x25c16aaa560>"
      ]
     },
     "execution_count": 10,
     "metadata": {},
     "output_type": "execute_result"
    }
   ],
   "source": [
    "# teste\n",
    "\n",
    "polly = Pessoa('polly', 699999999, 'rua tal, 2222, sp sp')\n",
    "polly"
   ]
  },
  {
   "cell_type": "code",
   "execution_count": 11,
   "metadata": {},
   "outputs": [
    {
     "name": "stdout",
     "output_type": "stream",
     "text": [
      " 100\n"
     ]
    }
   ],
   "source": [
    "def quadradoruim(x):\n",
    "    y = x ** expoente\n",
    "    return y\n",
    "\n",
    "expoente = 2\n",
    "\n",
    "resul = quadradoruim(10)\n",
    "print('', resul)"
   ]
  },
  {
   "attachments": {},
   "cell_type": "markdown",
   "metadata": {},
   "source": [
    "Outra maneira de fazer"
   ]
  },
  {
   "cell_type": "code",
   "execution_count": 16,
   "metadata": {},
   "outputs": [
    {
     "name": "stdout",
     "output_type": "stream",
     "text": [
      "o resultado de 10 ao quadrado é 100\n"
     ]
    }
   ],
   "source": [
    "def quadrado(x):\n",
    "    soma = 0\n",
    "    for _ in range(x):\n",
    "        soma += x\n",
    "    return soma\n",
    "\n",
    "aoquadrado = 10\n",
    "resul = quadrado(aoquadrado)\n",
    "print('o resultado de', aoquadrado, 'ao quadrado é', resul)"
   ]
  },
  {
   "cell_type": "code",
   "execution_count": 1,
   "metadata": {},
   "outputs": [],
   "source": [
    "import turtle\n",
    "\n",
    "def desenha_retangulo(t, w, h):\n",
    "    for i in range(2):\n",
    "        t.forward(w)\n",
    "        t.left(90)\n",
    "        t.forward(h)\n",
    "        t.left(90)\n",
    "\n",
    "def desenha_quadrado(tx, tam):\n",
    "    desenha_retangulo(tx, tam, tam)\n",
    "\n",
    "wn = turtle.Screen() # inicializa a janela\n",
    "wn.bgcolor(\"lightgreen\")\n",
    "\n",
    "tess = turtle.Turtle()\n",
    "desenha_quadrado(tess, 50)\n",
    "wn.exitonclick()"
   ]
  },
  {
   "cell_type": "code",
   "execution_count": 1,
   "metadata": {},
   "outputs": [],
   "source": [
    "import turtle\n",
    "\n",
    "\n",
    "\n",
    "\n",
    "def desenhaBarra(t, altura):\n",
    "\n",
    "    t.begin_fill()  # comece preenchendo o perfil\n",
    "    t.left(90)\n",
    "    t.forward(altura)\n",
    "    t.write(' ' + str(altura))\n",
    "    t.right(90)\n",
    "    t.forward(40)\n",
    "    t.right(90)\n",
    "    t.forward(altura)\n",
    "    t.left(90)\n",
    "    t.end_fill()  # pare de preencher o perfil\n",
    "\n",
    "\n",
    "xs = [48, 117, 200, 240, 160, 260, 220] # aqui vão os dados\n",
    "alturamax = max(xs)\n",
    "numbarras = len(xs)\n",
    "moldura = 10\n",
    "\n",
    "\n",
    "\n",
    "tess = turtle.Turtle()  # cria tess e inicializa alguns de seus atributos\n",
    "tess.color(\"blue\")\n",
    "tess.fillcolor(\"red\")\n",
    "tess.pensize(3)\n",
    "\n",
    "\n",
    "\n",
    "wn = turtle.Screen()  # Inicializa a janela e seus atributos\n",
    "wn.bgcolor(\"lightgreen\")\n",
    "wn.setworldcoordinates(0-moldura, 0-moldura, 40 *\n",
    "                       numbarras+moldura, alturamax+moldura)\n",
    "\n",
    "\n",
    "\n",
    "\n",
    "for a in xs:\n",
    "    desenhaBarra(tess, a)\n",
    "\n",
    "\n",
    "\n",
    "wn.exitonclick()\n"
   ]
  },
  {
   "cell_type": "code",
   "execution_count": null,
   "metadata": {},
   "outputs": [],
   "source": [
    "import turtle\n",
    "#teste\n",
    "\n",
    "#criando a tela\n",
    "w = turtle.Screen()\n",
    "w.bgcolor(\"lightgreen\")\n"
   ]
  }
 ],
 "metadata": {
  "kernelspec": {
   "display_name": "Python 3",
   "language": "python",
   "name": "python3"
  },
  "language_info": {
   "codemirror_mode": {
    "name": "ipython",
    "version": 3
   },
   "file_extension": ".py",
   "mimetype": "text/x-python",
   "name": "python",
   "nbconvert_exporter": "python",
   "pygments_lexer": "ipython3",
   "version": "3.10.10"
  },
  "orig_nbformat": 4
 },
 "nbformat": 4,
 "nbformat_minor": 2
}
